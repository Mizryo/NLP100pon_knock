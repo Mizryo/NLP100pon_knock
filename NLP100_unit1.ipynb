{
  "nbformat": 4,
  "nbformat_minor": 0,
  "metadata": {
    "colab": {
      "provenance": []
    },
    "kernelspec": {
      "name": "python3",
      "display_name": "Python 3"
    },
    "language_info": {
      "name": "python"
    }
  },
  "cells": [
    {
      "cell_type": "markdown",
      "source": [
        "## 00:文字列の逆順"
      ],
      "metadata": {
        "id": "mrSFkJbZx3Ca"
      }
    },
    {
      "cell_type": "code",
      "execution_count": 1,
      "metadata": {
        "id": "V1Py2XQ9wen_"
      },
      "outputs": [],
      "source": [
        "def reverse_str(s):\n",
        "  if type(s) is not str:\n",
        "    return None\n",
        "  rev_str = s[::-1]\n",
        "  return rev_str"
      ]
    },
    {
      "cell_type": "code",
      "source": [
        "str00 = \"stressed\"\n",
        "print(reverse_str(str00))"
      ],
      "metadata": {
        "colab": {
          "base_uri": "https://localhost:8080/"
        },
        "id": "Cm_Fp8TfyGrs",
        "outputId": "3c23b1a3-2970-4723-a4c7-dc65d4781169"
      },
      "execution_count": 2,
      "outputs": [
        {
          "output_type": "stream",
          "name": "stdout",
          "text": [
            "desserts\n"
          ]
        }
      ]
    },
    {
      "cell_type": "markdown",
      "source": [
        "## 01:「パタトクカシーー」"
      ],
      "metadata": {
        "id": "H00pYFL3yqtp"
      }
    },
    {
      "cell_type": "code",
      "source": [
        "def odd_char(s):\n",
        "  if type(s) is not str:\n",
        "    return None\n",
        "  oddchr = s[::2]\n",
        "  return oddchr"
      ],
      "metadata": {
        "id": "DRtDY3H1ywKe"
      },
      "execution_count": 3,
      "outputs": []
    },
    {
      "cell_type": "code",
      "source": [
        "str01 = \"パタトクカシーー\"\n",
        "print(odd_char(str01))"
      ],
      "metadata": {
        "colab": {
          "base_uri": "https://localhost:8080/"
        },
        "id": "6TLOLCUczKkR",
        "outputId": "503961e4-6cea-4a5e-d7ff-f2adb434553e"
      },
      "execution_count": 4,
      "outputs": [
        {
          "output_type": "stream",
          "name": "stdout",
          "text": [
            "パトカー\n"
          ]
        }
      ]
    },
    {
      "cell_type": "markdown",
      "source": [
        "## 02:「パトカー」＋「タクシー」＝「パタトクカシーー」"
      ],
      "metadata": {
        "id": "UJkcfDo5zuLB"
      }
    },
    {
      "cell_type": "code",
      "source": [
        "def zip_str(s1,s2):\n",
        "  if type(s1) is not str or type(s2) is not str:\n",
        "    return None\n",
        "  zipped_str = list(s2)\n",
        "  for i in range(len(s1)):\n",
        "    zipped_str.insert(i,s1[i])\n",
        "  return \"\".join(zipped_str)"
      ],
      "metadata": {
        "id": "xI-lkjXWzyfZ"
      },
      "execution_count": 7,
      "outputs": []
    },
    {
      "cell_type": "code",
      "source": [
        "str02_1 = \"パトカー\"\n",
        "str02_2 = \"タクシー\"\n",
        "print(zip_str(str02_1,str02_2))"
      ],
      "metadata": {
        "colab": {
          "base_uri": "https://localhost:8080/"
        },
        "id": "ViAx9MsLVOPy",
        "outputId": "bfc4b1dd-e990-42cb-d0e1-b06e0f2348cd"
      },
      "execution_count": 8,
      "outputs": [
        {
          "output_type": "stream",
          "name": "stdout",
          "text": [
            "パトカータクシー\n"
          ]
        }
      ]
    }
  ]
}