{
  "cells": [
    {
      "attachments": {},
      "cell_type": "markdown",
      "metadata": {
        "id": "mrSFkJbZx3Ca"
      },
      "source": [
        "## 00:文字列の逆順"
      ]
    },
    {
      "cell_type": "code",
      "execution_count": 1,
      "metadata": {
        "id": "V1Py2XQ9wen_"
      },
      "outputs": [],
      "source": [
        "def reverse_str(s):\n",
        "  if type(s) is not str:\n",
        "    return None\n",
        "  rev_str = s[::-1]\n",
        "  return rev_str"
      ]
    },
    {
      "cell_type": "code",
      "execution_count": 2,
      "metadata": {
        "colab": {
          "base_uri": "https://localhost:8080/"
        },
        "id": "Cm_Fp8TfyGrs",
        "outputId": "3c23b1a3-2970-4723-a4c7-dc65d4781169"
      },
      "outputs": [
        {
          "name": "stdout",
          "output_type": "stream",
          "text": [
            "desserts\n"
          ]
        }
      ],
      "source": [
        "str00 = \"stressed\"\n",
        "print(reverse_str(str00))"
      ]
    },
    {
      "attachments": {},
      "cell_type": "markdown",
      "metadata": {
        "id": "H00pYFL3yqtp"
      },
      "source": [
        "## 01:「パタトクカシーー」"
      ]
    },
    {
      "cell_type": "code",
      "execution_count": 3,
      "metadata": {
        "id": "DRtDY3H1ywKe"
      },
      "outputs": [],
      "source": [
        "def odd_char(s):\n",
        "  if type(s) is not str:\n",
        "    return None\n",
        "  oddchr = s[::2]\n",
        "  return oddchr"
      ]
    },
    {
      "cell_type": "code",
      "execution_count": 4,
      "metadata": {
        "colab": {
          "base_uri": "https://localhost:8080/"
        },
        "id": "6TLOLCUczKkR",
        "outputId": "503961e4-6cea-4a5e-d7ff-f2adb434553e"
      },
      "outputs": [
        {
          "name": "stdout",
          "output_type": "stream",
          "text": [
            "パトカー\n"
          ]
        }
      ],
      "source": [
        "str01 = \"パタトクカシーー\"\n",
        "print(odd_char(str01))"
      ]
    },
    {
      "attachments": {},
      "cell_type": "markdown",
      "metadata": {
        "id": "UJkcfDo5zuLB"
      },
      "source": [
        "## 02:「パトカー」＋「タクシー」＝「パタトクカシーー」"
      ]
    },
    {
      "cell_type": "code",
      "execution_count": 14,
      "metadata": {
        "id": "xI-lkjXWzyfZ"
      },
      "outputs": [],
      "source": [
        "def zip_str(s1,s2):\n",
        "  if type(s1) is not str or type(s2) is not str:\n",
        "    return None\n",
        "  zipped_str = []\n",
        "  for i in range(min(len(s1),len(s2))):\n",
        "    zipped_str.append(s1[i])\n",
        "    zipped_str.append(s2[i])\n",
        "  return \"\".join(zipped_str)"
      ]
    },
    {
      "cell_type": "code",
      "execution_count": 15,
      "metadata": {
        "colab": {
          "base_uri": "https://localhost:8080/"
        },
        "id": "ViAx9MsLVOPy",
        "outputId": "bfc4b1dd-e990-42cb-d0e1-b06e0f2348cd"
      },
      "outputs": [
        {
          "name": "stdout",
          "output_type": "stream",
          "text": [
            "パタトクカシーー\n"
          ]
        }
      ],
      "source": [
        "str02_1 = \"パトカー\"\n",
        "str02_2 = \"タクシー\"\n",
        "print(zip_str(str02_1,str02_2))"
      ]
    },
    {
      "attachments": {},
      "cell_type": "markdown",
      "metadata": {},
      "source": [
        "## 03:円周率"
      ]
    },
    {
      "cell_type": "code",
      "execution_count": 18,
      "metadata": {},
      "outputs": [],
      "source": [
        "def count_char(s):\n",
        "    words = s.split(\" \")\n",
        "    words = [word.rstrip(\",.\") for word in words]\n",
        "    return [len(word) for word in words]"
      ]
    },
    {
      "cell_type": "code",
      "execution_count": 19,
      "metadata": {},
      "outputs": [
        {
          "data": {
            "text/plain": [
              "[3, 1, 4, 1, 5, 9, 2, 6, 5, 3, 5, 8, 9, 7, 9]"
            ]
          },
          "execution_count": 19,
          "metadata": {},
          "output_type": "execute_result"
        }
      ],
      "source": [
        "str03 = \"Now I need a drink, alcoholic of course, after the heavy lectures involving quantum mechanics.\"\n",
        "count_char(str03)"
      ]
    },
    {
      "attachments": {},
      "cell_type": "markdown",
      "metadata": {},
      "source": [
        "## 04:元素記号"
      ]
    },
    {
      "cell_type": "code",
      "execution_count": 30,
      "metadata": {},
      "outputs": [],
      "source": [
        "def acronym(s):\n",
        "    words = s.split(\" \")\n",
        "    acronym_dict = {}\n",
        "    for i in range(len(words)):\n",
        "        if i+1 in [1,5,6,7,8,9,15,16,19]:\n",
        "            acronym_dict[words[i][0]] = i+1\n",
        "        else:\n",
        "            acronym_dict[words[i][0:2]] = i+1\n",
        "    return acronym_dict"
      ]
    },
    {
      "cell_type": "code",
      "execution_count": 31,
      "metadata": {},
      "outputs": [
        {
          "name": "stdout",
          "output_type": "stream",
          "text": [
            "{'H': 1, 'He': 2, 'Li': 3, 'Be': 4, 'B': 5, 'C': 6, 'N': 7, 'O': 8, 'F': 9, 'Ne': 10, 'Na': 11, 'Mi': 12, 'Al': 13, 'Si': 14, 'P': 15, 'S': 16, 'Cl': 17, 'Ar': 18, 'K': 19, 'Ca': 20}\n"
          ]
        }
      ],
      "source": [
        "str04 = \"Hi He Lied Because Boron Could Not Oxidize Fluorine. New Nations Might Also Sign Peace Security Clause. Arthur King Can.\"\n",
        "print(acronym(str04))"
      ]
    },
    {
      "attachments": {},
      "cell_type": "markdown",
      "metadata": {},
      "source": [
        "## 05:n-gram"
      ]
    },
    {
      "cell_type": "code",
      "execution_count": 36,
      "metadata": {},
      "outputs": [],
      "source": [
        "def n_gram_char(s,n):\n",
        "    n_grams = [s[i:i+n] for i in range(len(s)-n+1)]\n",
        "    return n_grams\n",
        "def n_gram_words(s,n):\n",
        "    words = s.split(\" \")\n",
        "    n_grams = [words[i:i+n] for i in range(len(words)-n+1)]\n",
        "    n_grams = [\" \".join(word) for word in n_grams]\n",
        "    return n_grams"
      ]
    },
    {
      "cell_type": "code",
      "execution_count": 37,
      "metadata": {},
      "outputs": [
        {
          "name": "stdout",
          "output_type": "stream",
          "text": [
            "['I ', ' a', 'am', 'm ', ' a', 'an', 'n ', ' N', 'NL', 'LP', 'Pe', 'er']\n",
            "['I am', 'am an', 'an NLPer']\n"
          ]
        }
      ],
      "source": [
        "str05 = \"I am an NLPer\"\n",
        "print(n_gram_char(str05,2))\n",
        "print(n_gram_words(str05,2))"
      ]
    },
    {
      "attachments": {},
      "cell_type": "markdown",
      "metadata": {},
      "source": [
        "## 06:集合"
      ]
    },
    {
      "cell_type": "code",
      "execution_count": 38,
      "metadata": {},
      "outputs": [
        {
          "name": "stdout",
          "output_type": "stream",
          "text": [
            "{'ag', 'ar', 'is', 'ph', 'di', 'ad', 'se', 'gr', 'pa', 'ra', 'ap'}\n",
            "{'ar', 'pa', 'ra', 'ap'}\n",
            "{'se', 'is', 'di', 'ad'}\n",
            "True\n",
            "False\n"
          ]
        }
      ],
      "source": [
        "str06_1 = \"paraparaparadise\"\n",
        "str06_2 = \"paragraph\"\n",
        "X = set(n_gram_char(str06_1,2))\n",
        "Y = set(n_gram_char(str06_2,2))\n",
        "sum_set = X | Y\n",
        "prod_set = X & Y\n",
        "dif_set = X - Y\n",
        "\n",
        "print(sum_set)\n",
        "print(prod_set)\n",
        "print(dif_set)\n",
        "\n",
        "print(\"se\" in X)\n",
        "print(\"se\" in Y)\n"
      ]
    },
    {
      "attachments": {},
      "cell_type": "markdown",
      "metadata": {},
      "source": [
        "## 07:テンプレートによる文生成"
      ]
    },
    {
      "cell_type": "code",
      "execution_count": 40,
      "metadata": {},
      "outputs": [],
      "source": [
        "def time_disc(x,y,z):\n",
        "    print(\"{}時の{}は{}\".format(x,y,z))\n",
        "    return None"
      ]
    },
    {
      "cell_type": "code",
      "execution_count": 41,
      "metadata": {},
      "outputs": [
        {
          "name": "stdout",
          "output_type": "stream",
          "text": [
            "12時の気温は22.4\n"
          ]
        }
      ],
      "source": [
        "x = 12\n",
        "y = \"気温\"\n",
        "z = 22.4\n",
        "time_disc(x,y,z)"
      ]
    },
    {
      "attachments": {},
      "cell_type": "markdown",
      "metadata": {},
      "source": [
        "## 08:暗号文"
      ]
    },
    {
      "cell_type": "code",
      "execution_count": 7,
      "metadata": {},
      "outputs": [],
      "source": [
        "def encode_str(s):\n",
        "    ciphertext = \"\"\n",
        "    for letter in s:\n",
        "        if letter.islower() == True:\n",
        "            ciphertext = \"\".join([ciphertext, chr(219-ord(letter))])\n",
        "        else:\n",
        "            ciphertext = \"\".join([ciphertext, letter])\n",
        "    return ciphertext"
      ]
    },
    {
      "cell_type": "code",
      "execution_count": 8,
      "metadata": {},
      "outputs": [],
      "source": [
        "def decode_str(ciphertext):\n",
        "    s = \"\"\n",
        "    for letter in ciphertext:\n",
        "        if letter.islower() == True:\n",
        "            s = \"\".join([s, chr(219-ord(letter))])\n",
        "        else:\n",
        "            s = \"\".join([s, letter])\n",
        "    return s"
      ]
    },
    {
      "cell_type": "code",
      "execution_count": 9,
      "metadata": {},
      "outputs": [
        {
          "name": "stdout",
          "output_type": "stream",
          "text": [
            "Hvool Wliow!\n",
            "Hello World!\n"
          ]
        }
      ],
      "source": [
        "str08 = \"Hello World!\"\n",
        "str08_en = encode_str(str08)\n",
        "str08_de = decode_str(str08_en)\n",
        "print(str08_en)\n",
        "print(str08_de)"
      ]
    },
    {
      "attachments": {},
      "cell_type": "markdown",
      "metadata": {},
      "source": [
        "## 09:Typoglycemia"
      ]
    },
    {
      "cell_type": "code",
      "execution_count": 21,
      "metadata": {},
      "outputs": [],
      "source": [
        "import random\n",
        "def make_typoglycemia(s):\n",
        "    words = s.split(\" \")\n",
        "    typo = \"\"\n",
        "    typo_word = \"\"\n",
        "    for word in words:\n",
        "        if len(word)<=4:\n",
        "            typo = \" \".join([typo, word])\n",
        "        else:\n",
        "            typo_word = \"\".join(random.sample(word[1:-1], k=len(word[1:-1])))\n",
        "            typo_word = \"\".join([word[0], typo_word, word[-1]])\n",
        "            typo = \" \".join([typo, typo_word])\n",
        "    return typo"
      ]
    },
    {
      "cell_type": "code",
      "execution_count": 22,
      "metadata": {},
      "outputs": [
        {
          "name": "stdout",
          "output_type": "stream",
          "text": [
            " I cuno'dlt bieleve that I could alcltauy uaennstrdd what I was radneig : the peonheamnl power of the hamun mind .\n"
          ]
        }
      ],
      "source": [
        "str09 = \"I couldn't believe that I could actually understand what I was reading : the phenomenal power of the human mind .\"\n",
        "print(make_typoglycemia(str09))"
      ]
    }
  ],
  "metadata": {
    "colab": {
      "provenance": []
    },
    "kernelspec": {
      "display_name": "Python 3",
      "name": "python3"
    },
    "language_info": {
      "codemirror_mode": {
        "name": "ipython",
        "version": 3
      },
      "file_extension": ".py",
      "mimetype": "text/x-python",
      "name": "python",
      "nbconvert_exporter": "python",
      "pygments_lexer": "ipython3",
      "version": "3.10.10"
    }
  },
  "nbformat": 4,
  "nbformat_minor": 0
}
